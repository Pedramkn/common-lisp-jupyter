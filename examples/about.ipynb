{
 "cells": [
  {
   "cell_type": "markdown",
   "metadata": {},
   "source": [
    "# common-lisp-jupyter\n",
    "\n",
    "A Common Lisp kernel for Jupyter."
   ]
  },
  {
   "cell_type": "markdown",
   "metadata": {},
   "source": [
    "All stream output is captured and displayed in the notebook interface."
   ]
  },
  {
   "cell_type": "code",
   "execution_count": null,
   "metadata": {},
   "outputs": [],
   "source": [
    "(format t \"Hello, World\")\n",
    "(format *error-output* \"Goodbye, cruel World.\")"
   ]
  },
  {
   "cell_type": "code",
   "execution_count": null,
   "metadata": {},
   "outputs": [],
   "source": [
    "(format j:*markdown-output* \"# Title\n",
    "This is *markdown*!\")"
   ]
  },
  {
   "cell_type": "markdown",
   "metadata": {},
   "source": [
    "Evaluation results are displayed directory in the notebook."
   ]
  },
  {
   "cell_type": "code",
   "execution_count": null,
   "metadata": {},
   "outputs": [],
   "source": [
    "(+ 2 3 4 5)"
   ]
  },
  {
   "cell_type": "code",
   "execution_count": null,
   "metadata": {},
   "outputs": [],
   "source": [
    "(ql:quickload :shasht)"
   ]
  },
  {
   "cell_type": "markdown",
   "metadata": {},
   "source": [
    "All Lisp code is value, including calls to quicklisp."
   ]
  },
  {
   "cell_type": "markdown",
   "metadata": {},
   "source": [
    "The serialized JSON will represented as a Lisp string."
   ]
  },
  {
   "cell_type": "code",
   "execution_count": null,
   "metadata": {},
   "outputs": [],
   "source": [
    "(shasht:write-json `(:object-plist \"foo\" \"bar\" \"quux\" 1.23) t)"
   ]
  },
  {
   "cell_type": "markdown",
   "metadata": {},
   "source": [
    "JSON can also be displayed with open/close expanders using `json` or `json-file`"
   ]
  },
  {
   "cell_type": "code",
   "execution_count": null,
   "metadata": {},
   "outputs": [],
   "source": [
    "(jupyter:json `(:object-plist \"foo\" \"bar\" \"quux\" (:object-plist \"a\" 1 \"b\" 2)) :expanded t :display t :id \"a\")"
   ]
  },
  {
   "cell_type": "markdown",
   "metadata": {},
   "source": [
    "If you use `display_data` and assign an id then you can update the result later on."
   ]
  },
  {
   "cell_type": "code",
   "execution_count": null,
   "metadata": {},
   "outputs": [],
   "source": [
    "(jupyter:json `(:object-plist \"foo\" \"bar\" \"quux\" (:object-plist \"a\" 1 \"b\" 2 \"c\" 3)) :expanded t :display t :update t :id \"a\")"
   ]
  },
  {
   "cell_type": "markdown",
   "metadata": {},
   "source": [
    "Error conditions will be captured and a backtrace will be sent to `*error-output*`"
   ]
  },
  {
   "cell_type": "code",
   "execution_count": null,
   "metadata": {},
   "outputs": [],
   "source": [
    "(/ 1 0)"
   ]
  },
  {
   "cell_type": "markdown",
   "metadata": {},
   "source": [
    "New functions can be defined. The default namespace is `COMMON-LISP-USER`."
   ]
  },
  {
   "cell_type": "code",
   "execution_count": null,
   "metadata": {},
   "outputs": [],
   "source": [
    "(defun fibonacci (n)\n",
    "    (if (<= n 1)\n",
    "        1\n",
    "        (+ (fibonacci (- n 2)) (fibonacci (- n 1)))))"
   ]
  },
  {
   "cell_type": "markdown",
   "metadata": {},
   "source": [
    "The seventh element of everybody's favorite sequence."
   ]
  },
  {
   "cell_type": "code",
   "execution_count": null,
   "metadata": {},
   "outputs": [],
   "source": [
    "(fibonacci 7)"
   ]
  },
  {
   "cell_type": "markdown",
   "metadata": {},
   "source": [
    "S-Expressions will be displayed using `pprint`."
   ]
  },
  {
   "cell_type": "code",
   "execution_count": null,
   "metadata": {},
   "outputs": [],
   "source": [
    "(function-lambda-expression #'fibonacci)"
   ]
  },
  {
   "cell_type": "markdown",
   "metadata": {},
   "source": [
    "Rich text and images can be displayed using inline values using the `inline-result`, `html`, `jpeg`, `latex`, `markdown`, `png`, `svg` or `text` functions. "
   ]
  },
  {
   "cell_type": "code",
   "execution_count": null,
   "metadata": {},
   "outputs": [],
   "source": [
    "(jupyter:markdown \"## wibble\n",
    "foo `quux`\")"
   ]
  },
  {
   "cell_type": "code",
   "execution_count": null,
   "metadata": {},
   "outputs": [],
   "source": [
    "(jupyter:latex \"$$R_{\\\\mu \\\\nu} - \\\\tfrac{1}{2}R \\\\, g_{\\\\mu \\\\nu} + \\\\Lambda g_{\\\\mu \\\\nu} =\n",
    "               8 \\\\pi G c^{-4} T_{\\\\mu \\\\nu}$$\")"
   ]
  },
  {
   "cell_type": "markdown",
   "metadata": {},
   "source": [
    "External files can be rendered using the `file`, `gif-file`, `jpeg-file`, `png-file`, `ps-file`, `svg-file` functions. \n",
    "\n",
    "The MIME type will be automatically determined in the case of a call to `file`."
   ]
  },
  {
   "cell_type": "code",
   "execution_count": null,
   "metadata": {},
   "outputs": [],
   "source": [
    "(jupyter:file \"lisplogo_alien.svg\" :display t)"
   ]
  },
  {
   "cell_type": "markdown",
   "metadata": {},
   "source": [
    "Calls to `yes-or-no-p` will result in a `input_request` to the user."
   ]
  },
  {
   "cell_type": "code",
   "execution_count": null,
   "metadata": {},
   "outputs": [],
   "source": [
    "(defparameter lisp-rocks (yes-or-no-p \"LISP rocks?\"))"
   ]
  },
  {
   "cell_type": "code",
   "execution_count": null,
   "metadata": {},
   "outputs": [],
   "source": [
    "(jupyter:markdown (format nil \"For the record Lisp ~A\" (if lisp-rocks \"**rocks**!\" \"**does not** rock.\")))"
   ]
  },
  {
   "cell_type": "markdown",
   "metadata": {},
   "source": [
    "Output send to `*query-io*` will result also result in an input_request to the user."
   ]
  },
  {
   "cell_type": "code",
   "execution_count": null,
   "metadata": {},
   "outputs": [],
   "source": [
    "(defun ask (prompt)\n",
    "    (format *query-io* prompt)\n",
    "    (finish-output *query-io*)\n",
    "    (read-line *query-io*))"
   ]
  },
  {
   "cell_type": "code",
   "execution_count": null,
   "metadata": {},
   "outputs": [],
   "source": [
    "(defvar quest (ask \"What is your quest? \"))"
   ]
  },
  {
   "cell_type": "code",
   "execution_count": null,
   "metadata": {},
   "outputs": [],
   "source": [
    "(format t \"Your quest is: ~A\" quest)"
   ]
  },
  {
   "cell_type": "markdown",
   "metadata": {},
   "source": [
    "`jupyter:clear` will clear the output of the current."
   ]
  },
  {
   "cell_type": "code",
   "execution_count": null,
   "metadata": {},
   "outputs": [],
   "source": [
    "(loop\n",
    "    for i from 1 to 10\n",
    "    do (sleep 0.25)\n",
    "    do (jupyter:clear t)\n",
    "    do (print i)\n",
    "    do (finish-output *standard-output*)\n",
    "    finally (return :no-output))"
   ]
  },
  {
   "cell_type": "markdown",
   "metadata": {},
   "source": [
    "`:no-output` can be used to suppress the output. Defining a reader macro can make this easier."
   ]
  },
  {
   "cell_type": "code",
   "execution_count": null,
   "metadata": {},
   "outputs": [],
   "source": [
    "(defun no-output-reader (stream char)\n",
    "   (declare (ignore char))\n",
    "   (list (quote progn) (read stream t nil t) :no-output))\n",
    "\n",
    "(set-macro-character #\\~ #'no-output-reader)"
   ]
  },
  {
   "cell_type": "code",
   "execution_count": null,
   "metadata": {},
   "outputs": [],
   "source": [
    "~(format t \"No output returned!\")"
   ]
  },
  {
   "cell_type": "markdown",
   "metadata": {},
   "source": [
    "Multiple value returns function correctly and previous result/form are set. "
   ]
  },
  {
   "cell_type": "code",
   "execution_count": null,
   "metadata": {},
   "outputs": [],
   "source": [
    "(values 'a1 'a2) \n",
    "'b \n",
    "(values 'c1 'c2 'c3) \n",
    "(list / // ///)"
   ]
  },
  {
   "cell_type": "code",
   "execution_count": null,
   "metadata": {},
   "outputs": [],
   "source": [
    "(values 'a1 'a2) \n",
    "'b \n",
    "(values 'c1 'c2 'c3) \n",
    "(list * ** ***)"
   ]
  },
  {
   "cell_type": "code",
   "execution_count": null,
   "metadata": {},
   "outputs": [],
   "source": [
    "(+ 0 1) \n",
    "(- 4 2) \n",
    "(/ 9 3) \n",
    "(list + ++ +++)"
   ]
  },
  {
   "cell_type": "code",
   "execution_count": null,
   "metadata": {},
   "outputs": [],
   "source": [
    "(j::json '(:object-plist \"foo\" 1 \"bar\" (:object-plist \"a\" 1)) :expanded t)"
   ]
  },
  {
   "cell_type": "code",
   "execution_count": null,
   "metadata": {},
   "outputs": [],
   "source": [
    "(j:text \"sdfsdf\" :display t :id \"fu\")"
   ]
  },
  {
   "cell_type": "code",
   "execution_count": null,
   "metadata": {},
   "outputs": [],
   "source": [
    "(values 'a1 'a2) 'b (values 'c1 'c2 'c3) (list / // ///)"
   ]
  },
  {
   "cell_type": "code",
   "execution_count": null,
   "metadata": {},
   "outputs": [],
   "source": [
    "(j:text \"wibble\" :display t :update t :id \"fu\")"
   ]
  },
  {
   "cell_type": "code",
   "execution_count": null,
   "metadata": {},
   "outputs": [],
   "source": [
    "(defvar a 1)"
   ]
  },
  {
   "cell_type": "code",
   "execution_count": null,
   "metadata": {},
   "outputs": [],
   "source": []
  }
 ],
 "metadata": {
  "kernelspec": {
   "display_name": "Common Lisp (SBCL)",
   "language": "common-lisp",
   "name": "common-lisp_sbcl"
  },
  "language_info": {
   "codemirror_mode": "text/x-common-lisp",
   "file_extension": ".lisp",
   "mimetype": "text/x-common-lisp",
   "name": "common-lisp",
   "pygments_lexer": "common-lisp",
   "version": "2.1.1"
  },
  "widgets": {
   "application/vnd.jupyter.widget-state+json": {
    "state": {},
    "version_major": 2,
    "version_minor": 0
   }
  }
 },
 "nbformat": 4,
 "nbformat_minor": 4
}
