{
 "cells": [
  {
   "cell_type": "markdown",
   "id": "44f21bbd-fc4b-40fa-924d-1f102c41f7bd",
   "metadata": {},
   "source": [
    "Evaluate the following cell. The function `fu` contains a break statement and an undefined variable."
   ]
  },
  {
   "cell_type": "code",
   "execution_count": null,
   "id": "5ce99f9c-9728-424a-b803-cbf0cf71696f",
   "metadata": {},
   "outputs": [],
   "source": [
    "(declaim (optimize (debug 3)\n",
    "                   (safety 3)\n",
    "                   (speed 0)))\n",
    "\n",
    "(defun fu (x)\n",
    "  (print \"1\")\n",
    "  (break)\n",
    "  (print \"2\")\n",
    "  (+ x y))"
   ]
  },
  {
   "cell_type": "markdown",
   "id": "4378427a-5d9c-41b4-8bf9-3a3ea61092e1",
   "metadata": {},
   "source": [
    "Now activate the debugger by clicking the toggle button in the upper right hand corner. Once the debugger is activated you should have a panel on the right hand side with VARIABLES, CALLSTACK, RESTARTS, BREAKPOINTS and SOURCE sections.\n",
    "\n",
    "Next evaluate the following cell which will pause in the debugger at the `break` function. You can continue using the controls on the CALLSTACK or the RESTARTS section. In the VARIABLES section there is a tree view and a grid view of the local variables for each frame in the callstack.\n",
    "\n",
    "Breakpoints do not currently work in any implementation. Single stepping works in SBCL and can be enabled with the ENABLE-STEPPING restart."
   ]
  },
  {
   "cell_type": "code",
   "execution_count": null,
   "id": "2fa3c614-d819-4b60-a6f2-f090d1430929",
   "metadata": {},
   "outputs": [],
   "source": [
    "(fu 7)"
   ]
  },
  {
   "cell_type": "markdown",
   "id": "7221fa16-0062-441d-bafd-b03baf486b1f",
   "metadata": {},
   "source": [
    "Evaluation can be started in the single stepper by using the `step` function."
   ]
  },
  {
   "cell_type": "code",
   "execution_count": null,
   "id": "3ac5f79a-4cda-4273-bcc8-9e3b3a60fc44",
   "metadata": {},
   "outputs": [],
   "source": [
    "(step (fu 7))"
   ]
  }
 ],
 "metadata": {
  "kernelspec": {
   "display_name": "Common Lisp (SBCL)",
   "language": "common-lisp",
   "name": "common-lisp_sbcl"
  },
  "language_info": {
   "codemirror_mode": "text/x-common-lisp",
   "file_extension": ".lisp",
   "mimetype": "text/x-common-lisp",
   "name": "common-lisp",
   "pygments_lexer": "common-lisp",
   "version": "2.1.1"
  }
 },
 "nbformat": 4,
 "nbformat_minor": 5
}
